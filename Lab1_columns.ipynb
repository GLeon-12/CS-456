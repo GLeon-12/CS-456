{
 "cells": [
  {
   "cell_type": "markdown",
   "id": "2c302800-80a2-42d0-a388-094c54bbc300",
   "metadata": {},
   "source": [
    "My name is Guillermo Leon and I will design, build, and manipulate my own dataset with multiple data types. "
   ]
  },
  {
   "cell_type": "code",
   "execution_count": 1,
   "id": "67df6ec8-15b3-40ab-94b2-d0ba181a5ae5",
   "metadata": {},
   "outputs": [],
   "source": [
    "#Importing libraries\n",
    "import numpy as np"
   ]
  },
  {
   "cell_type": "code",
   "execution_count": 2,
   "id": "96c9bb20-1af4-4a29-bbff-f697da7f33e9",
   "metadata": {},
   "outputs": [],
   "source": [
    "import pandas as pd"
   ]
  },
  {
   "cell_type": "code",
   "execution_count": 3,
   "id": "ca8be20d-dde9-4deb-b3ff-69392dc15791",
   "metadata": {},
   "outputs": [],
   "source": [
    "import random"
   ]
  },
  {
   "cell_type": "markdown",
   "id": "04910ead-5cc4-466a-9493-df70932bd333",
   "metadata": {},
   "source": [
    "Constructing a 5 x 50 table (5 columns x 50 rows) using python lists"
   ]
  },
  {
   "cell_type": "code",
   "execution_count": 4,
   "id": "d5cf9538-7afe-4865-b716-5f2b70d69634",
   "metadata": {},
   "outputs": [],
   "source": [
    "#creating variable that will represent 50 rows\n",
    "num_rows = 50"
   ]
  },
  {
   "cell_type": "code",
   "execution_count": 5,
   "id": "7582689b-fa43-48b3-9dcc-2aee9ad64aad",
   "metadata": {},
   "outputs": [],
   "source": [
    "#list of strings that represent the majors that the random function will use\n",
    "majors = ['Computer Science', 'Engineering', 'Business', 'Algriculture', 'Humanities']"
   ]
  },
  {
   "cell_type": "markdown",
   "id": "44c2b228-df9a-4382-9550-f4ce65d4d8e0",
   "metadata": {},
   "source": [
    "We will create a dataframe by constructing it directly from a dictionary of lists where each element of the dictionary turns into a column. I will use the random library to generate random data of different types for the table."
   ]
  },
  {
   "cell_type": "code",
   "execution_count": 6,
   "id": "13bda429-959f-43d4-8966-5357d98ea3ff",
   "metadata": {},
   "outputs": [],
   "source": [
    "#Creating a dictionary of lists structure to hold dataset\n",
    "dict_of_list = {\n",
    "    'Student_ID' : [random.randint(10000, 99999) for _ in range(num_rows)],\n",
    "    'Score' : [round(random.uniform(50.0, 100.0), 2) for _ in range(num_rows)],\n",
    "    'Major' : [random.choice(majors) for _ in range(num_rows)],\n",
    "    'Graduation_Year' : [random.randint(2022, 2026) for _ in range(num_rows)],\n",
    "    'Pass/Fail' : [random.choice([True, False]) for _ in range(num_rows)]\n",
    "}"
   ]
  },
  {
   "cell_type": "markdown",
   "id": "94bddf3a-0a84-4ca2-bd48-975e55dd1445",
   "metadata": {},
   "source": [
    "Convert to DataFrame"
   ]
  },
  {
   "cell_type": "code",
   "execution_count": 7,
   "id": "e46edd65-a7b0-467c-8fd1-dd61e27d2a0e",
   "metadata": {},
   "outputs": [],
   "source": [
    "df = pd.DataFrame(dict_of_list)"
   ]
  },
  {
   "cell_type": "code",
   "execution_count": 8,
   "id": "7688dfd7-a366-4f44-ba25-8b6d3e6e6294",
   "metadata": {},
   "outputs": [],
   "source": [
    "#converting Major data type from object to string\n",
    "df['Major'] = df['Major'].astype('string')"
   ]
  },
  {
   "cell_type": "markdown",
   "id": "b349d8a5-f488-498e-a0ff-f9275da563db",
   "metadata": {},
   "source": [
    "Display the first 5 rows"
   ]
  },
  {
   "cell_type": "code",
   "execution_count": 9,
   "id": "688d4d35-fe90-480d-9e34-a9410d160339",
   "metadata": {},
   "outputs": [
    {
     "name": "stdout",
     "output_type": "stream",
     "text": [
      "First 5 rows:\n",
      "   Student_ID  Score         Major  Graduation_Year  Pass/Fail\n",
      "0       28771  56.64      Business             2024       True\n",
      "1       61900  66.59  Algriculture             2022      False\n",
      "2       14110  85.12  Algriculture             2022      False\n",
      "3       43610  51.61      Business             2024       True\n",
      "4       30959  64.86   Engineering             2026       True\n"
     ]
    }
   ],
   "source": [
    "#using the .head() method from the pandas library to return the first 5 rows\n",
    "print(\"First 5 rows:\")\n",
    "print(df.head())"
   ]
  },
  {
   "cell_type": "markdown",
   "id": "fcaf7f4b-7159-45bd-8453-354302a0e6af",
   "metadata": {},
   "source": [
    "Display the last 5 rows"
   ]
  },
  {
   "cell_type": "code",
   "execution_count": 10,
   "id": "e62b16f2-cecf-4ded-8693-fae23bf4693f",
   "metadata": {},
   "outputs": [
    {
     "name": "stdout",
     "output_type": "stream",
     "text": [
      "Last 5 rows:\n",
      "    Student_ID  Score             Major  Graduation_Year  Pass/Fail\n",
      "45       28311  75.12          Business             2025       True\n",
      "46       28372  57.46  Computer Science             2023       True\n",
      "47       65982  84.10      Algriculture             2026      False\n",
      "48       86420  59.00        Humanities             2022       True\n",
      "49       79395  91.40          Business             2026      False\n"
     ]
    }
   ],
   "source": [
    "#using the .tail() method from the pandas library to return the last 5 rows\n",
    "print(\"Last 5 rows:\")\n",
    "print(df.tail())"
   ]
  },
  {
   "cell_type": "markdown",
   "id": "d59169ca-89b8-4f4b-b2f5-6b5b4babc00a",
   "metadata": {},
   "source": [
    "Showing the column labels and data type of each column"
   ]
  },
  {
   "cell_type": "code",
   "execution_count": 11,
   "id": "d3f718fd-32e7-420a-bf02-9e1eee8578d9",
   "metadata": {},
   "outputs": [
    {
     "name": "stdout",
     "output_type": "stream",
     "text": [
      "Column Names:\n",
      "<class 'pandas.core.frame.DataFrame'>\n",
      "RangeIndex: 50 entries, 0 to 49\n",
      "Data columns (total 5 columns):\n",
      " #   Column           Non-Null Count  Dtype  \n",
      "---  ------           --------------  -----  \n",
      " 0   Student_ID       50 non-null     int64  \n",
      " 1   Score            50 non-null     float64\n",
      " 2   Major            50 non-null     string \n",
      " 3   Graduation_Year  50 non-null     int64  \n",
      " 4   Pass/Fail        50 non-null     bool   \n",
      "dtypes: bool(1), float64(1), int64(2), string(1)\n",
      "memory usage: 1.7 KB\n",
      "None\n"
     ]
    }
   ],
   "source": [
    "#using the .info() method from the pandas library to return column labels\n",
    "#and data type of each column.\n",
    "print(\"Column Names:\")\n",
    "print(df.info())"
   ]
  },
  {
   "cell_type": "markdown",
   "id": "622839d8-a1d8-42e1-a491-62b2b734a5b8",
   "metadata": {},
   "source": [
    "Showing the descriptive statistics for numeric columns"
   ]
  },
  {
   "cell_type": "code",
   "execution_count": 12,
   "id": "71ca3b75-8bd1-444b-a25c-c315282ec012",
   "metadata": {},
   "outputs": [
    {
     "name": "stdout",
     "output_type": "stream",
     "text": [
      "Descriptive statistics of numeric columns:\n",
      "         Student_ID      Score  Graduation_Year\n",
      "count     50.000000  50.000000        50.000000\n",
      "mean   54884.760000  74.084200      2023.860000\n",
      "std    24939.502364  14.161968         1.355412\n",
      "min    12447.000000  50.610000      2022.000000\n",
      "25%    31559.500000  61.135000      2023.000000\n",
      "50%    54027.500000  75.220000      2024.000000\n",
      "75%    73567.750000  85.967500      2025.000000\n",
      "max    99730.000000  97.460000      2026.000000\n"
     ]
    }
   ],
   "source": [
    "#using the describe() method from the pandas library to find the statistical summaries of numeric columns\n",
    "print(\"Descriptive statistics of numeric columns:\")\n",
    "print(df.describe())"
   ]
  },
  {
   "cell_type": "markdown",
   "id": "fc9b6906-020e-4ec7-a4f0-cae86c39c86c",
   "metadata": {},
   "source": [
    "Showing the number of unique values in a categorical column"
   ]
  },
  {
   "cell_type": "code",
   "execution_count": 13,
   "id": "033eb8a3-6909-4697-91c5-6b563d08b92b",
   "metadata": {},
   "outputs": [
    {
     "name": "stdout",
     "output_type": "stream",
     "text": [
      "Unique values in categorical column\n",
      "<StringArray>\n",
      "['Business', 'Algriculture', 'Engineering', 'Computer Science', 'Humanities']\n",
      "Length: 5, dtype: string\n"
     ]
    }
   ],
   "source": [
    "#using the .unique() method from the pandas library to show the unique values in a categorical column\n",
    "print('Unique values in categorical column')\n",
    "print(df['Major'].unique())"
   ]
  },
  {
   "cell_type": "markdown",
   "id": "b84af0d1-8daa-4d98-bca9-db8ea4a03d9d",
   "metadata": {},
   "source": [
    "A if-elif-else check to assign a letter grade with a specific score"
   ]
  },
  {
   "cell_type": "code",
   "execution_count": 14,
   "id": "b69f086a-0e1f-4fff-a94d-ffb8c8ed77e8",
   "metadata": {},
   "outputs": [],
   "source": [
    "def score_to_grade(score):\n",
    "    if score >= 90:\n",
    "        return 'A'\n",
    "    elif score >= 80:\n",
    "        return 'B'\n",
    "    elif score >= 70:\n",
    "        return 'C'\n",
    "    elif score >= 60:\n",
    "        return 'D'\n",
    "    else: \n",
    "        return 'F'  "
   ]
  },
  {
   "cell_type": "code",
   "execution_count": 15,
   "id": "b728121d-d9eb-46a3-b30c-21dec12f095f",
   "metadata": {},
   "outputs": [],
   "source": [
    "#applying new column called Letter_Grade to the data frame\n",
    "df['Letter_Grade'] = df['Score'].apply(score_to_grade)"
   ]
  },
  {
   "cell_type": "markdown",
   "id": "a399cc09-bd13-4f86-a26f-63ca0387b73c",
   "metadata": {},
   "source": [
    "Printing the first 5 rows to check if Letter_Grade column was added correctly"
   ]
  },
  {
   "cell_type": "code",
   "execution_count": 16,
   "id": "ae2cd2ae-a9e2-41eb-846d-ee67e7ee008e",
   "metadata": {},
   "outputs": [
    {
     "name": "stdout",
     "output_type": "stream",
     "text": [
      "   Student_ID  Score         Major  Graduation_Year  Pass/Fail Letter_Grade\n",
      "0       28771  56.64      Business             2024       True            F\n",
      "1       61900  66.59  Algriculture             2022      False            D\n",
      "2       14110  85.12  Algriculture             2022      False            B\n",
      "3       43610  51.61      Business             2024       True            F\n",
      "4       30959  64.86   Engineering             2026       True            D\n"
     ]
    }
   ],
   "source": [
    "print(df.head())"
   ]
  },
  {
   "cell_type": "code",
   "execution_count": 17,
   "id": "cb142032-64bb-4eea-a2c0-071394d7304b",
   "metadata": {},
   "outputs": [],
   "source": [
    "#saving dataframe to a csv file with index\n",
    "df.to_csv(\"lab_assignment_1.csv\")"
   ]
  },
  {
   "cell_type": "code",
   "execution_count": 18,
   "id": "a0f7ae79-9689-4a2c-ad37-94d8f8454944",
   "metadata": {},
   "outputs": [],
   "source": [
    "#saving dataframe to a csv file without index\n",
    "df.to_csv(\"lab_assignment_1_without_index.csv\", index=False)"
   ]
  }
 ],
 "metadata": {
  "kernelspec": {
   "display_name": "Python [conda env:base] *",
   "language": "python",
   "name": "conda-base-py"
  },
  "language_info": {
   "codemirror_mode": {
    "name": "ipython",
    "version": 3
   },
   "file_extension": ".py",
   "mimetype": "text/x-python",
   "name": "python",
   "nbconvert_exporter": "python",
   "pygments_lexer": "ipython3",
   "version": "3.13.5"
  }
 },
 "nbformat": 4,
 "nbformat_minor": 5
}
