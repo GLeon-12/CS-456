{
 "cells": [
  {
   "cell_type": "markdown",
   "id": "2c302800-80a2-42d0-a388-094c54bbc300",
   "metadata": {},
   "source": [
    "My name is Guillermo Leon and I will design, build, and manipulate my own dataset with multiple data types. "
   ]
  },
  {
   "cell_type": "code",
   "execution_count": 65,
   "id": "67df6ec8-15b3-40ab-94b2-d0ba181a5ae5",
   "metadata": {},
   "outputs": [],
   "source": [
    "#Importing libraries\n",
    "import numpy as np"
   ]
  },
  {
   "cell_type": "code",
   "execution_count": 66,
   "id": "96c9bb20-1af4-4a29-bbff-f697da7f33e9",
   "metadata": {},
   "outputs": [],
   "source": [
    "import pandas as pd"
   ]
  },
  {
   "cell_type": "code",
   "execution_count": 67,
   "id": "ca8be20d-dde9-4deb-b3ff-69392dc15791",
   "metadata": {},
   "outputs": [],
   "source": [
    "import random"
   ]
  },
  {
   "cell_type": "markdown",
   "id": "04910ead-5cc4-466a-9493-df70932bd333",
   "metadata": {},
   "source": [
    "Constructing a 5 x 50 table (5 columns x 50 rows) using python lists"
   ]
  },
  {
   "cell_type": "code",
   "execution_count": 68,
   "id": "d5cf9538-7afe-4865-b716-5f2b70d69634",
   "metadata": {},
   "outputs": [],
   "source": [
    "#creating variable that will represent 50 rows\n",
    "num_rows = 50"
   ]
  },
  {
   "cell_type": "code",
   "execution_count": 69,
   "id": "7582689b-fa43-48b3-9dcc-2aee9ad64aad",
   "metadata": {},
   "outputs": [],
   "source": [
    "#list of strings that represent the majors that the random function will use\n",
    "majors = ['Computer Science', 'Engineering', 'Business', 'Algriculture', 'Humanities']"
   ]
  },
  {
   "cell_type": "markdown",
   "id": "44c2b228-df9a-4382-9550-f4ce65d4d8e0",
   "metadata": {},
   "source": [
    "We will create a dataframe by constructing it directly from a dictionary of lists where each element of the dictionary turns into a column. I will use the random library to generate random data of different types for the table."
   ]
  },
  {
   "cell_type": "code",
   "execution_count": 70,
   "id": "13bda429-959f-43d4-8966-5357d98ea3ff",
   "metadata": {},
   "outputs": [],
   "source": [
    "#Creating a dictionary of lists structure to hold dataset\n",
    "dict_of_list = {\n",
    "    'Student_ID' : [random.randint(10000, 99999) for _ in range(num_rows)],\n",
    "    'Score' : [round(random.uniform(50.0, 100.0), 2) for _ in range(num_rows)],\n",
    "    'Major' : [random.choice(majors) for _ in range(num_rows)],\n",
    "    'Graduation_Year' : [random.randint(2022, 2026) for _ in range(num_rows)],\n",
    "    'Pass/Fail' : [random.choice([True, False]) for _ in range(num_rows)]\n",
    "}"
   ]
  },
  {
   "cell_type": "markdown",
   "id": "94bddf3a-0a84-4ca2-bd48-975e55dd1445",
   "metadata": {},
   "source": [
    "Convert to DataFrame"
   ]
  },
  {
   "cell_type": "code",
   "execution_count": 71,
   "id": "e46edd65-a7b0-467c-8fd1-dd61e27d2a0e",
   "metadata": {},
   "outputs": [],
   "source": [
    "df = pd.DataFrame(dict_of_list)"
   ]
  },
  {
   "cell_type": "code",
   "execution_count": 72,
   "id": "7688dfd7-a366-4f44-ba25-8b6d3e6e6294",
   "metadata": {},
   "outputs": [],
   "source": [
    "#converting Major data type from object to string\n",
    "df['Major'] = df['Major'].astype('string')"
   ]
  },
  {
   "cell_type": "markdown",
   "id": "b349d8a5-f488-498e-a0ff-f9275da563db",
   "metadata": {},
   "source": [
    "Display the first 5 rows"
   ]
  },
  {
   "cell_type": "code",
   "execution_count": 73,
   "id": "688d4d35-fe90-480d-9e34-a9410d160339",
   "metadata": {},
   "outputs": [
    {
     "name": "stdout",
     "output_type": "stream",
     "text": [
      "First 5 rows:\n",
      "   Student_ID  Score             Major  Graduation_Year  Pass/Fail\n",
      "0       94802  66.02       Engineering             2024       True\n",
      "1       66448  89.99       Engineering             2026       True\n",
      "2       84198  62.84        Humanities             2025      False\n",
      "3       76308  64.20  Computer Science             2024      False\n",
      "4       64295  52.84       Engineering             2023       True\n"
     ]
    }
   ],
   "source": [
    "#using the .head() method from the pandas library to return the first 5 rows\n",
    "print(\"First 5 rows:\")\n",
    "print(df.head())"
   ]
  },
  {
   "cell_type": "markdown",
   "id": "fcaf7f4b-7159-45bd-8453-354302a0e6af",
   "metadata": {},
   "source": [
    "Display the last 5 rows"
   ]
  },
  {
   "cell_type": "code",
   "execution_count": 74,
   "id": "e240418a-c1ed-4098-a965-fb6e6f55c086",
   "metadata": {},
   "outputs": [
    {
     "name": "stdout",
     "output_type": "stream",
     "text": [
      "Last 5 rows:\n",
      "    Student_ID  Score             Major  Graduation_Year  Pass/Fail\n",
      "45       67033  84.88       Engineering             2022      False\n",
      "46       55110  98.38  Computer Science             2023       True\n",
      "47       24691  99.04        Humanities             2026      False\n",
      "48       56673  96.63       Engineering             2024      False\n",
      "49       10606  71.81          Business             2022       True\n"
     ]
    }
   ],
   "source": [
    "#using the .tail() method from the pandas library to return the last 5 rows\n",
    "print(\"Last 5 rows:\")\n",
    "print(df.tail())"
   ]
  },
  {
   "cell_type": "markdown",
   "id": "ebc55d82-faca-4d23-bb7c-b2408a9f3673",
   "metadata": {},
   "source": [
    "Showing column names"
   ]
  },
  {
   "cell_type": "code",
   "execution_count": 75,
   "id": "d3f718fd-32e7-420a-bf02-9e1eee8578d9",
   "metadata": {},
   "outputs": [
    {
     "name": "stdout",
     "output_type": "stream",
     "text": [
      "Column Names:\n",
      "Index(['Student_ID', 'Score', 'Major', 'Graduation_Year', 'Pass/Fail'], dtype='object')\n"
     ]
    }
   ],
   "source": [
    "#using the .keys() method from the pandas library to return column labels\n",
    "print(\"Column Names:\")\n",
    "print(df.keys())"
   ]
  },
  {
   "cell_type": "markdown",
   "id": "9feedf21-173f-414b-a680-555e6ca1caf4",
   "metadata": {},
   "source": [
    "Showing data types of columns"
   ]
  },
  {
   "cell_type": "code",
   "execution_count": 76,
   "id": "0526bffb-748d-47d7-b97f-0d1276101d5b",
   "metadata": {},
   "outputs": [
    {
     "name": "stdout",
     "output_type": "stream",
     "text": [
      "Data Types:\n",
      "Student_ID                  int64\n",
      "Score                     float64\n",
      "Major              string[python]\n",
      "Graduation_Year             int64\n",
      "Pass/Fail                    bool\n",
      "dtype: object\n"
     ]
    }
   ],
   "source": [
    "#using the dtypes attribute to return series containing data type of each column\n",
    "print(\"Data Types:\")\n",
    "print(df.dtypes)"
   ]
  },
  {
   "cell_type": "markdown",
   "id": "622839d8-a1d8-42e1-a491-62b2b734a5b8",
   "metadata": {},
   "source": [
    "Showing the descriptive statistics for numeric columns"
   ]
  },
  {
   "cell_type": "code",
   "execution_count": 77,
   "id": "71ca3b75-8bd1-444b-a25c-c315282ec012",
   "metadata": {},
   "outputs": [
    {
     "name": "stdout",
     "output_type": "stream",
     "text": [
      "Descriptive statistics of numeric columns:\n",
      "         Student_ID      Score  Graduation_Year\n",
      "count     50.000000  50.000000        50.000000\n",
      "mean   60980.960000  74.941600      2023.960000\n",
      "std    27501.323115  15.226884         1.399125\n",
      "min    10606.000000  50.580000      2022.000000\n",
      "25%    39683.250000  61.837500      2023.000000\n",
      "50%    66581.500000  73.600000      2024.000000\n",
      "75%    85262.250000  87.705000      2025.000000\n",
      "max    97446.000000  99.580000      2026.000000\n"
     ]
    }
   ],
   "source": [
    "#using the describe() method from the pandas library to find the statistical summaries of numeric columns\n",
    "print(\"Descriptive statistics of numeric columns:\")\n",
    "print(df.describe())"
   ]
  },
  {
   "cell_type": "markdown",
   "id": "fc9b6906-020e-4ec7-a4f0-cae86c39c86c",
   "metadata": {},
   "source": [
    "Showing the number of unique values in a categorical column"
   ]
  },
  {
   "cell_type": "code",
   "execution_count": 78,
   "id": "033eb8a3-6909-4697-91c5-6b563d08b92b",
   "metadata": {},
   "outputs": [
    {
     "name": "stdout",
     "output_type": "stream",
     "text": [
      "Unique values in categorical column\n",
      "<StringArray>\n",
      "['Engineering', 'Humanities', 'Computer Science', 'Business', 'Algriculture']\n",
      "Length: 5, dtype: string\n"
     ]
    }
   ],
   "source": [
    "#using the .unique() method from the pandas library to show the unique values in a categorical column\n",
    "print('Unique values in categorical column')\n",
    "print(df['Major'].unique())"
   ]
  },
  {
   "cell_type": "markdown",
   "id": "b84af0d1-8daa-4d98-bca9-db8ea4a03d9d",
   "metadata": {},
   "source": [
    "A if-elif-else check to assign a letter grade with a specific score"
   ]
  },
  {
   "cell_type": "code",
   "execution_count": 79,
   "id": "b69f086a-0e1f-4fff-a94d-ffb8c8ed77e8",
   "metadata": {},
   "outputs": [],
   "source": [
    "def score_to_grade(score):\n",
    "    if score >= 90:\n",
    "        return 'A'\n",
    "    elif score >= 80:\n",
    "        return 'B'\n",
    "    elif score >= 70:\n",
    "        return 'C'\n",
    "    elif score >= 60:\n",
    "        return 'D'\n",
    "    else: \n",
    "        return 'F'  "
   ]
  },
  {
   "cell_type": "code",
   "execution_count": 80,
   "id": "b728121d-d9eb-46a3-b30c-21dec12f095f",
   "metadata": {},
   "outputs": [],
   "source": [
    "#applying new column called Letter_Grade to the data frame\n",
    "df['Letter_Grade'] = df['Score'].apply(score_to_grade)"
   ]
  },
  {
   "cell_type": "markdown",
   "id": "a399cc09-bd13-4f86-a26f-63ca0387b73c",
   "metadata": {},
   "source": [
    "Printing the first 5 rows to check if Letter_Grade column was added correctly"
   ]
  },
  {
   "cell_type": "code",
   "execution_count": 81,
   "id": "ae2cd2ae-a9e2-41eb-846d-ee67e7ee008e",
   "metadata": {},
   "outputs": [
    {
     "name": "stdout",
     "output_type": "stream",
     "text": [
      "   Student_ID  Score             Major  Graduation_Year  Pass/Fail  \\\n",
      "0       94802  66.02       Engineering             2024       True   \n",
      "1       66448  89.99       Engineering             2026       True   \n",
      "2       84198  62.84        Humanities             2025      False   \n",
      "3       76308  64.20  Computer Science             2024      False   \n",
      "4       64295  52.84       Engineering             2023       True   \n",
      "\n",
      "  Letter_Grade  \n",
      "0            D  \n",
      "1            B  \n",
      "2            D  \n",
      "3            D  \n",
      "4            F  \n"
     ]
    }
   ],
   "source": [
    "print(df.head())"
   ]
  },
  {
   "cell_type": "code",
   "execution_count": 85,
   "id": "cb142032-64bb-4eea-a2c0-071394d7304b",
   "metadata": {},
   "outputs": [],
   "source": [
    "#saving dataframe to a csv file with index\n",
    "df.to_csv(\"lab_assignment_1.csv\")"
   ]
  },
  {
   "cell_type": "code",
   "execution_count": 86,
   "id": "a0f7ae79-9689-4a2c-ad37-94d8f8454944",
   "metadata": {},
   "outputs": [],
   "source": [
    "#saving dataframe to a csv file without index\n",
    "df.to_csv(\"lab_assignment_1_without_index.csv\", index=False)"
   ]
  },
  {
   "cell_type": "code",
   "execution_count": null,
   "id": "4e0a7b1a-efa7-4253-b4eb-f741bbdf77c8",
   "metadata": {},
   "outputs": [],
   "source": []
  }
 ],
 "metadata": {
  "kernelspec": {
   "display_name": "Python [conda env:base] *",
   "language": "python",
   "name": "conda-base-py"
  },
  "language_info": {
   "codemirror_mode": {
    "name": "ipython",
    "version": 3
   },
   "file_extension": ".py",
   "mimetype": "text/x-python",
   "name": "python",
   "nbconvert_exporter": "python",
   "pygments_lexer": "ipython3",
   "version": "3.13.5"
  }
 },
 "nbformat": 4,
 "nbformat_minor": 5
}
